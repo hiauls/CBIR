{
  "nbformat": 4,
  "nbformat_minor": 0,
  "metadata": {
    "colab": {
      "provenance": [],
      "include_colab_link": true
    },
    "kernelspec": {
      "name": "python3",
      "display_name": "Python 3"
    },
    "language_info": {
      "name": "python"
    }
  },
  "cells": [
    {
      "cell_type": "markdown",
      "metadata": {
        "id": "view-in-github",
        "colab_type": "text"
      },
      "source": [
        "<a href=\"https://colab.research.google.com/github/hiauls/CBIR/blob/main/CBIR_cancer.ipynb\" target=\"_parent\"><img src=\"https://colab.research.google.com/assets/colab-badge.svg\" alt=\"Open In Colab\"/></a>"
      ]
    },
    {
      "cell_type": "code",
      "source": [
        "import numpy as np \n",
        "import pandas as pd \n",
        "\n",
        "\n",
        "\n",
        "import os\n",
        "import torch\n",
        "import numpy as np\n",
        "import cupy as cp\n",
        "\n",
        "from torchvision import transforms\n",
        "from PIL import Image\n",
        "from tqdm.notebook import tqdm\n"
      ],
      "metadata": {
        "id": "wvuDwD_II42e"
      },
      "execution_count": null,
      "outputs": []
    },
    {
      "cell_type": "code",
      "source": [
        "! pip install \"../input/efficientnet-pytorch/EfficientNet-PyTorch/EfficientNet-PyTorch-master/\""
      ],
      "metadata": {
        "id": "ZJz7_2WbJAin"
      },
      "execution_count": null,
      "outputs": []
    },
    {
      "cell_type": "code",
      "source": [
        "from efficientnet_pytorch import EfficientNet\n",
        "model = EfficientNet.from_name('efficientnet-b0')\n",
        "model.load_state_dict(torch.load(\"../input/efficientnet-pytorch/efficientnet-b0-08094119.pth\"))\n",
        "model = model.eval()"
      ],
      "metadata": {
        "id": "rEj_Ff8VJFNd"
      },
      "execution_count": null,
      "outputs": []
    },
    {
      "cell_type": "code",
      "source": [
        "from torch.utils.data import Dataset, DataLoader\n",
        "class ShopeeDataset(Dataset):\n",
        "    def __init__(self, anotation, transforms):\n",
        "        self.anotation = anotation\n",
        "        self.transforms = transforms\n",
        "        \n",
        "    def __len__(self):\n",
        "        return len(self.anotation)\n",
        "    \n",
        "    def __getitem__(self, idx):\n",
        "        \n",
        "        post_id, img_id = self.anotation.loc[idx,['posting_id','image']].values\n",
        "        img_path = \"../input/shopee-product-matching/train_images/\"+img_id\n",
        "        img = Image.open(img_path)\n",
        "        img = self.transforms(img)\n",
        "        return img, post_id"
      ],
      "metadata": {
        "id": "eYIJ1FePKLA6"
      },
      "execution_count": null,
      "outputs": []
    },
    {
      "cell_type": "code",
      "source": [
        "train = pd.read_csv('/kaggle/input/shopee-product-matching/train.csv')\n",
        "### I only use 20% data to demo this method\n",
        "train = train[:int(len(train)*0.2)] "
      ],
      "metadata": {
        "id": "zi-2-wamKi3i"
      },
      "execution_count": null,
      "outputs": []
    },
    {
      "cell_type": "code",
      "source": [
        "tfms = transforms.Compose([transforms.Resize((224,224)), transforms.ToTensor(),\n",
        "    transforms.Normalize([0.485, 0.456, 0.406], [0.229, 0.224, 0.225]),])\n",
        "\n",
        "data = ShopeeDataset(anotation = train, transforms=tfms)\n",
        "\n",
        "batch_size=64\n",
        "data_loader = DataLoader(dataset=data, batch_size=batch_size, shuffle=False)"
      ],
      "metadata": {
        "id": "eFPEsk6GKoh3"
      },
      "execution_count": null,
      "outputs": []
    },
    {
      "cell_type": "code",
      "source": [
        "device = torch.device(\"cuda\")\n",
        "model = model.to(device)"
      ],
      "metadata": {
        "id": "WH7w8cLtK0W3"
      },
      "execution_count": null,
      "outputs": []
    },
    {
      "cell_type": "code",
      "source": [
        "data_feature = np.zeros((len(train),1280))\n",
        "post_id_list = []\n",
        "for i, (x_input, post_input) in enumerate(tqdm(data_loader)):\n",
        "    features = model.extract_features(x_input.to(device))\n",
        "    feature_vec = torch.nn.AdaptiveAvgPool2d(1)(features).cpu().view(-1,1280).detach().numpy()\n",
        "    data_feature[i * batch_size:(i+1) * batch_size] = feature_vec\n",
        "    post_id_list += post_input\n",
        "    del x_input, post_input, features"
      ],
      "metadata": {
        "id": "Lvjk6Ie-K2_4"
      },
      "execution_count": null,
      "outputs": []
    },
    {
      "cell_type": "code",
      "source": [
        "feature_data = pd.DataFrame({\"post_id\":post_id_list,\"feature\":data_feature.tolist()})"
      ],
      "metadata": {
        "id": "wp03Zq4jK59p"
      },
      "execution_count": null,
      "outputs": []
    },
    {
      "cell_type": "code",
      "source": [
        "feature_data.head()"
      ],
      "metadata": {
        "id": "rRL6A87GK8XP"
      },
      "execution_count": null,
      "outputs": []
    },
    {
      "cell_type": "code",
      "source": [
        "post_id_sub_list = []\n",
        "match_id_list = []\n",
        "for i in tqdm(range(len(feature_data))):\n",
        "\n",
        "    post_id, fea_id = feature_data.loc[i,['post_id','feature']].values\n",
        "    #match_temp_id = \"\"\n",
        "    #score_np = np.linalg.norm(data_feature - fea_id, ord=2, axis=1.)\n",
        "    #score_np = np.dot(fea_id, data_feature.T)\n",
        "    score_np = cp.sum((data_feature-fea_id)**2,axis = 1)\n",
        "    idx_relate = np.where(score_np<30)\n",
        "    \n",
        "    temp_str = \" \".join(np.array(post_id_list)[idx_relate[0]].tolist())\n",
        "    \n",
        "    post_id_sub_list.append(post_id)\n",
        "    match_id_list.append(temp_str)"
      ],
      "metadata": {
        "id": "rNM3AA1aK-m-"
      },
      "execution_count": null,
      "outputs": []
    },
    {
      "cell_type": "code",
      "source": [
        "submission1 = pd.DataFrame()\n",
        "submission1['posting_id'] = post_id_sub_list\n",
        "submission1['matches'] = match_id_list"
      ],
      "metadata": {
        "id": "990jDc5kLA7R"
      },
      "execution_count": null,
      "outputs": []
    },
    {
      "cell_type": "code",
      "source": [
        "submission1.head()"
      ],
      "metadata": {
        "id": "8JuJ6muzLDBv"
      },
      "execution_count": null,
      "outputs": []
    },
    {
      "cell_type": "code",
      "source": [
        "submission1.head()"
      ],
      "metadata": {
        "id": "aBXjbAJJLFP3"
      },
      "execution_count": null,
      "outputs": []
    },
    {
      "cell_type": "code",
      "source": [
        "def plot_image_list(img_list, post_id, match_list):\n",
        "    \"\"\" Function to display row of image slices \"\"\"\n",
        "    fig, axes = plt.subplots(1, len(img_list),figsize=(len(img_list)*5, 5))\n",
        "    fig.suptitle('Query Image = [{}], Match Image = [{}]'.format(post_id, \",\".join(match_list)), fontsize=16)\n",
        "    for i, img in enumerate(img_list):\n",
        "        axes[i].imshow(img)"
      ],
      "metadata": {
        "id": "NVbdTg19LHGu"
      },
      "execution_count": null,
      "outputs": []
    },
    {
      "cell_type": "code",
      "source": [
        "import matplotlib.pyplot as plt\n",
        "train_path = \"../input/shopee-product-matching/train_images/\"\n",
        "have_relate_img = submission1[submission1['posting_id']!=submission1['matches']].reset_index(drop=True)\n",
        "for i in np.random.choice(len(have_relate_img), 20):\n",
        "    query_id, match_id = have_relate_img.loc[i,['posting_id','matches']].values\n",
        "    match_list = match_id.split(\" \")\n",
        "    plt_array=[]\n",
        "    for j in match_list:\n",
        "        img_name = train[train['posting_id']==j]['image'].values[0]\n",
        "        img_path = train_path+img_name\n",
        "        img = Image.open(img_path)\n",
        "        plt_array.append(img)\n",
        "    plot_image_list(plt_array, query_id, match_list)"
      ],
      "metadata": {
        "id": "NTp3w2FhLJW2"
      },
      "execution_count": null,
      "outputs": []
    },
    {
      "cell_type": "code",
      "source": [],
      "metadata": {
        "id": "YP6X3MM0LMN7"
      },
      "execution_count": null,
      "outputs": []
    }
  ]
}